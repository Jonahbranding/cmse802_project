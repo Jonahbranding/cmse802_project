{
 "cells": [
  {
   "cell_type": "markdown",
   "metadata": {},
   "source": [
    "\n",
    "## 1. Project Structure and Documentation\n",
    "\n",
    "### Code Structure Design\n",
    "\n",
    "Design the overall structure of your project code, following these specific requirements:\n",
    "\n",
    "**Required Code Organization:**\n",
    "- Implement core functionality in Python scripts (`.py` files), not notebooks\n",
    "- Use Jupyter notebooks **only** for data analysis, visualization, and demonstrating results\n",
    "- Create a modular structure with clear separation of concerns\n",
    "- Ensure models can be trained via scripts (not requiring notebook execution)\n",
    "- Implement a command-line interface for running your core functionality\n",
    "\n",
    "**Directory Structure Requirements:**\n",
    "- `/src/` - All source code modules and scripts\n",
    "- `/notebooks/` - Jupyter notebooks for analysis and visualization\n",
    "- `/data/` - Data files (or documentation of data sources if too large)\n",
    "- `/tests/` - Unit tests for your implementation\n",
    "- `/docs/` - Documentation files\n",
    "- `/results/` - Generated outputs (figures, model checkpoints, etc.)\n",
    "\n",
    "Create a `README.md` for each directory explaining its purpose and contents.\n",
    "\n",
    "Provide a diagram or textual description of your code structure below.\n",
    "\n",
    "```python"
   ]
  },
  {
   "cell_type": "code",
   "execution_count": null,
   "metadata": {},
   "outputs": [
    {
     "ename": "SyntaxError",
     "evalue": "invalid character '│' (U+2502) (3439714515.py, line 1)",
     "output_type": "error",
     "traceback": [
      "\u001b[0;36m  Cell \u001b[0;32mIn[2], line 1\u001b[0;36m\u001b[0m\n\u001b[0;31m    │── src/\u001b[0m\n\u001b[0m    ^\u001b[0m\n\u001b[0;31mSyntaxError\u001b[0m\u001b[0;31m:\u001b[0m invalid character '│' (U+2502)\n"
     ]
    }
   ],
   "source": [
    "/handicap_model/          # Root directory\n",
    "│── /src/                    \n",
    "    │── README_src.md    \n",
    "│   ├── model.py              # Defines genetic dynamics and selection\n",
    "│   ├── simulation.py         # Runs evolutionary simulations\n",
    "│── /notebooks/      \n",
    "    │── README_notebooks.md    \n",
    "    │── hm_analysis.ipynb     # Jupyter notebook for presenting results \n",
    "│── /data/ \n",
    "    │── README_data.md   \n",
    "    │── random-gen.py          # Randomly generated initial distribution of genotypes\n",
    "│── /tests/               \n",
    "    │── README_tests.md   \n",
    "│   ├── test_model.py          # Tests model calculations\n",
    "│   ├── test_simulation.py     # Tests simulations\n",
    "│── /docs/                     # Documentation\n",
    "    │── README_docs.md   \n",
    "│── /results/                 # Output figures, logs\n",
    "    │── README.md             \n",
    "    │──results.py             #results"
   ]
  },
  {
   "cell_type": "markdown",
   "metadata": {},
   "source": [
    "\n",
    "\n",
    "### Documentation Strategy\n",
    "\n",
    "Develop comprehensive documentation for your project following these guidelines:\n",
    "\n",
    "**Script Documentation Requirements:**\n",
    "- Include a header comment block in each `.py` file explaining its purpose\n",
    "- Document all functions using a consistent style (NumPy or Google docstring format)\n",
    "- Add inline comments for complex sections of code\n",
    "- Create a `requirements.txt` file listing all dependencies\n",
    "\n",
    "**Notebook Documentation Requirements:**\n",
    "- Include markdown cells explaining the purpose of each analysis step\n",
    "- Document the reasoning behind visualization choices\n",
    "- Ensure notebooks can be understood without having to run them\n",
    "- Add a table of contents at the beginning of each notebook\n",
    "\n",
    "**Example Documentation:**\n",
    "\n",
    "```python\n",
    "# example_module.py\n",
    "\"\"\"\n",
    "Module for data preprocessing and feature engineering.\n",
    "\n",
    "This module contains functions for cleaning, transforming, and\n",
    "preparing data for modeling. It handles missing values, outlier\n",
    "detection, and feature normalization.\n",
    "\n",
    "Author: Your Name\n",
    "Date: March 2025\n",
    "\"\"\""
   ]
  },
  {
   "cell_type": "markdown",
   "metadata": {},
   "source": [
    "Got it - done!"
   ]
  },
  {
   "cell_type": "markdown",
   "metadata": {},
   "source": [
    "## 2. Data/Problem Understanding\n",
    "\n",
    "### For Algorithm-Focused Projects:\n",
    "\n",
    "Develop a mathematical foundation for your algorithm:\n",
    "- Provide the mathematical formulation\n",
    "- Analyze theoretical properties (stability, convergence, etc.)\n",
    "- Create simple test cases with known solutions\n",
    "- Document expected behavior under different conditions\n"
   ]
  },
  {
   "cell_type": "markdown",
   "metadata": {},
   "source": [
    "\n",
    " Here is a mathematical formulation of the model, abstracted from Maynard-Smith's paper:\n",
    "\n",
    "\n",
    "1. **Survival Advantage of A Allele**  \n",
    "   - Individuals with **AA** or **Aa** genotypes are **fitter** than those with **aa**.  \n",
    "   - This means individuals carrying the **A** allele (in either homozygous or heterozygous form) have a higher probability of surviving to breed.\n",
    "\n",
    "2. **Handicap in Males (B Allele)**  \n",
    "   - Males with **BB** or **Bb** genotypes possess a **handicap**, such as a long tail (like in peacocks).  \n",
    "   - **bb males** do not have this handicap and are **more likely to survive**.  \n",
    "   - The **B gene is not expressed in females**.\n",
    "\n",
    "3. **Mate Selection by C Allele**  \n",
    "   - **CC and Cc females** will **only** mate with **B males**.  \n",
    "   - **cc females** are unselective and mate with males in the proportions in which they occur in the adult population.  \n",
    "   - The **C gene is not expressed in males**.\n",
    "\n",
    "#### **Survival Probabilities by Genotype**\n",
    "The fitness effects of genes **A** and **B** on survival probability are:\n",
    "\n",
    "| Genotype | Fitness of Females | Fitness of Males |\n",
    "|----------|-------------------|------------------|\n",
    "| `AAB` or `AaB` | 1 | \\(1 - t\\) |\n",
    "| `AAbb` or `Aabb` | 1 | \\(1 - s\\) |\n",
    "| `aaB` | 1 | \\((1 - s)(1 - ut)\\) |\n",
    "| `aabb` | \\(1 - s\\) | \\(1 - s\\) |"
   ]
  },
  {
   "cell_type": "markdown",
   "metadata": {},
   "source": [
    "### Theoretical Properties\n",
    "The theoretical property of greatest interest is the fate of the B allele. John Maynard-Smith, in his original paper, claimed that the handicap process cannot work, because the B allele goes to extinction, instead of fixation. \n",
    "\n",
    "### Simple test cases with known solution\n",
    "One simple test case could be a situation where only one genotype occurs in the population--for example, only AAB. In this case, there should be no change, as the model doesn't have parameters built in for mutation. According to the fitness values above, there would in fact be no change.\n",
    "\n",
    "### Document expected behavior under different conditions:\n",
    "Per the results in Maynard-Smith's original paper, I expect that if the initial frequency of C is large, then handicap will increase. I also expect that if C is small, then B males will go to extinction, also per the conclusions of Maynard-Smith's paper. "
   ]
  },
  {
   "cell_type": "markdown",
   "metadata": {},
   "source": [
    "## Implementation Plan\n",
    "\n",
    "Outline your approach to implementing your data processing pipeline or algorithm:\n",
    "- Identify key steps and dependencies\n",
    "- Determine preprocessing requirements\n",
    "- Plan computational strategies\n",
    "- Consider efficiency and optimization approaches"
   ]
  },
  {
   "cell_type": "markdown",
   "metadata": {},
   "source": [
    "Key steps and dependencies:\n",
    "The steps I need are - \n",
    "1. Generate an initial population, with a randomly chosen distribution of genotype frequencies.\n",
    "2. Apply the fitness values to obtain the next generation.\n",
    "3. Repeat\n",
    "4. Observe behavior of the model after a series \n",
    "\n",
    "Preprocessing Requirements:\n",
    "\n",
    "I should ensure that the inputs are valid--i.e. that the coefficients are between 0 and 1, and that the complementary allele frequencies (e.g. A and a) sum to 1.\n",
    "\n",
    "Computational Strategies:\n",
    "\n",
    "I'll deal with numpy arrays instead of lists where possible, for their increased flexibilit and efficiency.\n",
    "\n",
    "Efficiency/optimiaation approaches:\n",
    "\n",
    "N/A: I'm using a relatively small amount of generated data, so efficiency is unlikely to be a major concern."
   ]
  },
  {
   "cell_type": "markdown",
   "metadata": {},
   "source": [
    "\n",
    "# 3. Test Case Design\n",
    "\n",
    "Design a comprehensive testing approach for your project:\n",
    "- Identify critical functionality that requires testing\n",
    "- Create test cases with expected inputs and outputs\n",
    "- Include edge cases and boundary conditions\n",
    "- Document how each test validates specific aspects of your implementation"
   ]
  },
  {
   "cell_type": "markdown",
   "metadata": {},
   "source": [
    "Two functionalities that require testing are the following: \n",
    "\n",
    "(1) The assignment of fitness values for each genotype.\n",
    "\n",
    "(2) The assignment of mating probabilities."
   ]
  },
  {
   "cell_type": "code",
   "execution_count": 26,
   "metadata": {},
   "outputs": [],
   "source": [
    "#This section was generated with assistance from ChatGPT (version 3.5, on March 23rd, 2025).\n",
    "\n",
    "import unittest\n",
    "import numpy as np\n",
    "\n",
    "class TestHandicapModel(unittest.TestCase):\n",
    "\n",
    "#Fitness values\n",
    "    def setUp(self):\n",
    "        \"\"\"Set up a HandicapModel instance before each test.\"\"\"\n",
    "        self.model = HandicapModel(s=0.1, t=0.2, u=0.3)\n",
    "\n",
    "    def test_fitness_values(self):\n",
    "        \"\"\"Test if fitness function returns correct values.\"\"\"\n",
    "        self.assertEqual(self.model.fitness(\"AAB\"), (1, 0.8))  # 1 - t\n",
    "        self.assertEqual(self.model.fitness(\"aaB\"), (1, (1 - 0.1) * (1 - 0.3 * 0.2)))\n",
    "        self.assertEqual(self.model.fitness(\"aabb\"), (0.9, 0.9))  # 1 - s\n",
    "\n",
    "    def test_invalid_fitness_input(self):\n",
    "        \"\"\"Ensure invalid genotypes raise an error.\"\"\"\n",
    "        with self.assertRaises(ValueError):\n",
    "            self.model.fitness(\"XYZ\")  # Invalid input\n",
    "\n",
    "# Mating probabilities\n",
    "    def test_mating_probabilities(self):\n",
    "        \"\"\"Test if CC and Cc females select only B males.\"\"\"\n",
    "        male_genotypes = [\"AAB\", \"AAbb\", \"AaB\", \"aaB\", \"aabb\"]\n",
    "        \n",
    "        # CC females must only select B males\n",
    "        expected_selection = {\"AAB\": 1, \"AaB\": 1, \"aaB\": 1, \"AAbb\": 0, \"aabb\": 0}\n",
    "        self.assertEqual(self.model.mating_probabilities(\"CC\", male_genotypes), expected_selection)\n",
    "        \n",
    "        # cc females must select in proportion\n",
    "        random_selection = self.model.mating_probabilities(\"cc\", male_genotypes)\n",
    "        self.assertEqual(sum(random_selection.values()), 1.0)  # Probabilities must sum to 1"
   ]
  },
  {
   "cell_type": "markdown",
   "metadata": {},
   "source": [
    "What about an edge case? Here, let's write a test for t = 1, i.e., where the handicap is fatal."
   ]
  },
  {
   "cell_type": "code",
   "execution_count": 28,
   "metadata": {},
   "outputs": [],
   "source": [
    "#This section was generated with assistance from ChatGPT (version 3.5, on March 23rd, 2025).\n",
    "\n",
    "import unittest\n",
    "import numpy as np\n",
    "\n",
    "class TestHandicapModel(unittest.TestCase):\n",
    "\n",
    "#Fitness values\n",
    "    def setUp(self):\n",
    "        \"\"\"Set up a HandicapModel instance before each test.\"\"\"\n",
    "        self.model = HandicapModel(s=0.1, t=1, u=0.3)\n",
    "\n",
    "    def test_fitness_values(self):\n",
    "        \"\"\"Test if fitness function returns correct values.\"\"\"\n",
    "        self.assertEqual(self.model.fitness(\"AAB\"), (1, 0.8))  # 1 - t\n",
    "        self.assertEqual(self.model.fitness(\"aaB\"), (1, (1 - 0.1) * (1 - 0.3 * 0.2)))\n",
    "        self.assertEqual(self.model.fitness(\"aabb\"), (0.9, 0.9))  # 1 - s\n",
    "\n",
    "    def test_invalid_fitness_input(self):\n",
    "        \"\"\"Ensure invalid genotypes raise an error.\"\"\"\n",
    "        with self.assertRaises(ValueError):\n",
    "            self.model.fitness(\"XYZ\")  # Invalid input\n",
    "\n",
    "# Mating probabilities\n",
    "    def test_mating_probabilities(self):\n",
    "        \"\"\"Test if CC and Cc females select only B males.\"\"\"\n",
    "        male_genotypes = [\"AAB\", \"AAbb\", \"AaB\", \"aaB\", \"aabb\"]\n",
    "        \n",
    "        # CC females must only select B males\n",
    "        expected_selection = {\"AAB\": 1, \"AaB\": 1, \"aaB\": 1, \"AAbb\": 0, \"aabb\": 0}\n",
    "        self.assertEqual(self.model.mating_probabilities(\"CC\", male_genotypes), expected_selection)\n",
    "        \n",
    "        # cc females must select in proportion\n",
    "        random_selection = self.model.mating_probabilities(\"cc\", male_genotypes)\n",
    "        self.assertEqual(sum(random_selection.values()), 1.0)  # Probabilities must sum to 1\n"
   ]
  },
  {
   "cell_type": "markdown",
   "metadata": {},
   "source": [
    "## How does each test case validate specific aspects of the implementation?\n",
    "\n",
    "Testing the fitness values ensures that they've been assigned as the model wants--e.g. the fitness values for AAB should be 1, and 1-t (for, respectively, females and males). \n",
    "\n",
    "Meanwhile, testing the mating probabilities ensures that C females are only mating with B males. "
   ]
  },
  {
   "cell_type": "markdown",
   "metadata": {},
   "source": [
    "\n",
    "# 4. Initial Implementation\n",
    "\n",
    "### Core Functionality Implementation\n",
    "\n",
    "Implement the foundational components of your project:\n",
    "\n",
    "**For Algorithm-Focused Projects:**\n",
    "- Core algorithm implementation\n",
    "- Parameter handling\n",
    "- Solution computation for simple cases"
   ]
  },
  {
   "cell_type": "code",
   "execution_count": null,
   "metadata": {},
   "outputs": [],
   "source": [
    "# This seciton was generated with assistance from ChatGPT (version 3.5, on March 23, 2025)\n",
    "\n",
    "import numpy as np\n",
    "\n",
    "#Begins by defining a class HandicapModel, with allele frequencies and selection parameters as attributes.\n",
    "class HandicapModel:\n",
    "    def __init__(self, p_A=0.5, p_B=0.5, p_C=0.5, s=0.1, t=0.2, u=0.3):\n",
    "        \"\"\"Initialize the model with allele frequencies and selection parameters.\"\"\"\n",
    "        self.p_A = p_A\n",
    "        self.p_a = 1 - p_A\n",
    "        self.p_B = p_B\n",
    "        self.p_b = 1 - p_B\n",
    "        self.p_C = p_C\n",
    "        self.p_c = 1 - p_C\n",
    "        \n",
    "        self.s = s  # Selection coefficient for aa\n",
    "        self.t = t  # Handicap coefficient for B males\n",
    "        self.u = u  # Interaction coefficient for aaB males\n",
    "\n",
    "# Defines a method for this class, fitness, according to the math above.\n",
    "    def fitness(self, genotype):\n",
    "        \"\"\"Return the fitness value for a given genotype.\"\"\"\n",
    "        if genotype in ['AAB', 'AaB']:\n",
    "            return (1, 1 - self.t)\n",
    "        elif genotype in ['AAbb', 'Aabb']:\n",
    "            return (1, 1 - self.s)\n",
    "        elif genotype == 'aaB':\n",
    "            return (1, (1 - self.s) * (1 - self.u * self.t))\n",
    "        elif genotype == 'aabb':\n",
    "            return (1 - self.s, 1 - self.s)\n",
    "        else:\n",
    "            raise ValueError(\"Invalid genotype\")\n",
    "    \n",
    "# Defines another method for the class, mating_probabilities, which \n",
    "    def mating_probabilities(self, female_genotype, male_genotypes):\n",
    "        \"\"\"Return mating probabilities based on female preference.\"\"\"\n",
    "        if female_genotype in ['CC', 'Cc']:\n",
    "            return {g: 1 if 'B' in g else 0 for g in male_genotypes}\n",
    "        else:\n",
    "            return {g: 1 / len(male_genotypes) for g in male_genotypes}\n",
    "    \n",
    "# Defines a method \"update frequencies\" which updates over 1 generation\n",
    "    def update_frequencies(self):\n",
    "        \"\"\"Update allele frequencies over one generation.\"\"\"\n",
    "        # Compute genotype frequencies before selection. This part uses the Hardy-Weinberg equation, which assumes random mating\n",
    "        # (Of course, mating will be non-random with respect to genotype pretty soon, but this describes before selection)\n",
    "        f_AA = self.p_A ** 2\n",
    "        f_Aa = 2 * self.p_A * self.p_a\n",
    "        f_aa = self.p_a ** 2\n",
    "        f_BB = self.p_B ** 2\n",
    "        f_Bb = 2 * self.p_B * self.p_b\n",
    "        f_bb = self.p_b ** 2\n",
    "        \n",
    "        # Compute survival rates. This gives tuples for female fitness, male fitness.\n",
    "        W_AAB, W_AaB = self.fitness(\"AAB\")[1], self.fitness(\"AaB\")[1]\n",
    "        W_AAbb, W_Aabb = self.fitness(\"AAbb\")[1], self.fitness(\"Aabb\")[1]\n",
    "        W_aaB, W_aabb = self.fitness(\"aaB\")[1], self.fitness(\"aabb\")[1]\n",
    "        \n",
    "        # Mean fitness of the population\n",
    "        W_bar = (\n",
    "            f_AA * self.p_B * W_AAB +\n",
    "            f_Aa * self.p_B * W_AaB +\n",
    "            f_AA * self.p_b * W_AAbb +\n",
    "            f_Aa * self.p_b * W_Aabb +\n",
    "            f_aa * self.p_B * W_aaB +\n",
    "            f_aa * self.p_b * W_aabb\n",
    "        )\n",
    "        \n",
    "        # Update allele frequencies\n",
    "        self.p_A = (f_AA * self.p_B + f_Aa * self.p_B) / W_bar\n",
    "        self.p_a = 1 - self.p_A\n",
    "        self.p_B = (f_AA * self.p_B * W_AAB + f_Aa * self.p_B * W_AaB) / W_bar\n",
    "        self.p_b = 1 - self.p_B\n",
    "    \n",
    "    def simulate(self, generations=100):\n",
    "        \"\"\"Run the model for a given number of generations and track allele changes.\"\"\"\n",
    "        history = []\n",
    "        for _ in range(generations):\n",
    "            self.update_frequencies()\n",
    "            history.append((self.p_A, self.p_B, self.p_C))\n",
    "        return np.array(history)\n"
   ]
  },
  {
   "cell_type": "markdown",
   "metadata": {},
   "source": [
    "\n",
    "### Visualization and Analysis\n",
    "\n",
    "Create visualizations to analyze your initial results:\n",
    "- Generate plots that illustrate key findings or algorithm behavior\n",
    "- Analyze the performance or characteristics of your implementation\n",
    "- Document insights gained from these visualizations\n"
   ]
  },
  {
   "cell_type": "code",
   "execution_count": null,
   "metadata": {},
   "outputs": [
    {
     "data": {
      "image/png": "[encoded data removed]",
      "text/plain": [
       "<Figure size 1000x600 with 1 Axes>"
      ]
     },
     "metadata": {},
     "output_type": "display_data"
    }
   ],
   "source": [
    "import matplotlib.pyplot as plt\n",
    "\n",
    "# Initialize the model with some starting parameters\n",
    "model = HandicapModel(p_A=0.6, p_B=0.4, p_C=0.5, s=0.1, t=0.2, u=0.3)\n",
    "\n",
    "# Run the simulation\n",
    "generations = 200\n",
    "\n",
    "#Assigns a name \"history\" to the output of the simulation over 200 generations\n",
    "history = model.simulate(generations)\n",
    "\n",
    "# Extracts allele frequencies; returns an array with one line per generation, and three columns corresponding to allele frequencies\n",
    "p_A_values, p_B_values, p_C_values = history[:, 0], history[:, 1], history[:, 2]\n",
    "\n",
    "# Plot results\n",
    "plt.figure(figsize=(10, 6))\n",
    "plt.plot(range(generations), p_A_values, label='p_A (Allele A)')\n",
    "plt.plot(range(generations), p_B_values, label='p_B (Allele B)')\n",
    "plt.plot(range(generations), p_C_values, label='p_C (Allele C)', linestyle='dashed')\n",
    "plt.xlabel(\"Generations\")\n",
    "\n",
    "# Maynard Smith's original model was investigated after just 5 generations.\n",
    "plt.xlim(0,5)\n",
    "\n",
    "plt.ylabel(\"Allele Frequency\")\n",
    "plt.title(\"Evolution of Allele Frequencies Over Time\")\n",
    "plt.legend()\n",
    "plt.show()"
   ]
  },
  {
   "cell_type": "code",
   "execution_count": null,
   "metadata": {},
   "outputs": [],
   "source": []
  },
  {
   "cell_type": "markdown",
   "metadata": {},
   "source": [
    "Insights gained from visualization:\n",
    "\n",
    "A claim made in the original paper (but not substantiated with an accompanying figure) was that the trends in allele frequencies were apparent by only 5 generations. This seems to be bourne out by the above visualization."
   ]
  },
  {
   "cell_type": "markdown",
   "metadata": {},
   "source": [
    "## 5. Progress Report\n",
    "\n",
    "### Project Progress Assessment\n",
    "\n",
    "Evaluate your progress against your original project plan:\n",
    "- Compare current status to your Gantt chart from HW1\n",
    "- Identify areas where you're ahead or behind schedule\n",
    "- Update your timeline based on new understanding\n",
    "- Document any scope adjustments needed"
   ]
  },
  {
   "cell_type": "markdown",
   "metadata": {},
   "source": [
    "Compare current status to Gantt chart:\n",
    "- I'm currently way behind; I had thought I'd have a model implemented by week 6, but I've only just now been able to implement a preliminary version of the model.\n",
    "\n",
    "Areas where you're ahead or behind schedule:\n",
    "- I'm behind in all areas.\n",
    "\n",
    "Updated timeline:\n",
    "- Have a more fully fleshed-out model by the beginning of April\n",
    "- Implement tweaks having to do with quantitative traits by the end of april.\n",
    "\n",
    "Scope adjustments needed: \n",
    "- I may not be able to modify the model to handle quantitative traits.\n"
   ]
  },
  {
   "cell_type": "markdown",
   "metadata": {},
   "source": [
    "### Course Concept Application\n",
    "\n",
    "Explain how specific concepts from the course are being applied in your project:\n",
    "\n",
    "Identify at least 2-3 course topics that directly relate to your implementation\n",
    " - Command line interface and scripting (Day 02)\n",
    " - Modeling intro (Day 08)\n",
    "\n",
    "Explain how these concepts informed your approach\n",
    "- I used CLI to create the directories, and used some of the general ideas we discussed in class to inform the construction of a mathematical model. \n",
    "\n",
    "Describe how course materials helped overcome specific challenges\n",
    "\n",
    "- I had to go back and reference some of my notes from the day we worked on CLI, in order to make a nested set of directories. \n",
    "\n"
   ]
  }
 ],
 "metadata": {
  "kernelspec": {
   "display_name": "CMSE802",
   "language": "python",
   "name": "python3"
  },
  "language_info": {
   "codemirror_mode": {
    "name": "ipython",
    "version": 3
   },
   "file_extension": ".py",
   "mimetype": "text/x-python",
   "name": "python",
   "nbconvert_exporter": "python",
   "pygments_lexer": "ipython3",
   "version": "3.13.1"
  }
 },
 "nbformat": 4,
 "nbformat_minor": 2
}

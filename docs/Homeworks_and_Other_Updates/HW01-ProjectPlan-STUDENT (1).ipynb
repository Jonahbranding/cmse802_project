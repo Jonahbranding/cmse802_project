{
 "cells": [
  {
   "cell_type": "markdown",
   "id": "1897be31",
   "metadata": {},
   "source": [
    "# Homework 1: Project Plan and Resource Identification\n",
    "\n",
    "## Objective\n",
    "Develop a comprehensive project plan and identify necessary resources for your final project.\n",
    "\n",
    "## Instructions\n",
    "Complete the following sections in this notebook. Be as detailed and specific as possible in your responses. Use code cells for any preliminary code, data exploration, or resource testing you conduct.\n"
   ]
  },
  {
   "cell_type": "markdown",
   "id": "b41c32c0",
   "metadata": {},
   "source": [
    "## 1. Project Title and Brief Description\n",
    "\n",
    "Provide a clear, concise title for your project and a brief description (2-3 sentences) that outlines the main idea and goals."
   ]
  },
  {
   "cell_type": "markdown",
   "id": "afca71e6",
   "metadata": {},
   "source": [
    "✏️ \n",
    "* Project Title: Reconsidering Maynard-Smith's Handicap Hypothesis\n",
    "* Brief Description: Here I consider a model of sexual selection proposed, and then rejected, in John Maynard Smith's 1976 paper, \"Sexual Selection and the Handicap Principle.\" In this paper, Maynard-Smith considers whether sex-linked \"handicaps\" can become fixed in a population due to their benefits to daughters, at the cost of sons (e.g. a female peacock who mates with a male with an elaborate tail will pass on the tail to her sons, which will lead to higher conspicousness to predators and hence higher mortality, but her daughters will receive no tail, plus the underlying 'good genes' that enabled the mate to survive with the tail). Maynard Smith used a very simiple pen-and-paper model to demonstrate that this sort of dynamic couldn't lead to the fixation of the handicap. Here I implement the model in python, and ask whether relaxing some of Maynard-Smith's assumptions could lead to a different outcome. "
   ]
  },
  {
   "cell_type": "markdown",
   "id": "4c527464",
   "metadata": {},
   "source": [
    "## 2. Project Goals and Objectives\n",
    "\n",
    "List 3-5 specific, measurable objectives for your project. What do you aim to achieve or demonstrate?"
   ]
  },
  {
   "cell_type": "markdown",
   "id": "927d0a9d",
   "metadata": {},
   "source": [
    "1. Implement Maynard-Smith's original model in python. \n",
    "2. Find the degree of fitness benefits to daughters that can outweight the fitness cost to sons, on Maynard-Smith's original model.  \n",
    "3. Suggest alternative models that relax or vary the kinds of assumptions used (e.g. non-Mendelian handicaps, handicaps which are quantitative and can increase/decrease), and see what happens."
   ]
  },
  {
   "cell_type": "markdown",
   "id": "cfbb65a1",
   "metadata": {},
   "source": [
    "## 3. Methodology\n",
    "\n",
    "Outline the computational methods and approaches you plan to use in your project. Consider:\n",
    "\n",
    "* What algorithms or models will you implement?\n",
    "* How will you structure your code?\n",
    "* What computational techniques from the course will you apply?\n",
    "\n",
    "Provide a high-level overview of your planned approach.\n"
   ]
  },
  {
   "cell_type": "markdown",
   "id": "984715e5",
   "metadata": {},
   "source": [
    "I will implement the model from Maynard-Smith's original paper, and I'll analyze it using agent-based modeling and numerical techniques for differential equations. "
   ]
  },
  {
   "cell_type": "markdown",
   "id": "231c12ad",
   "metadata": {},
   "source": [
    "## 4. Data Sources\n",
    "\n",
    "Describe the data you'll use for your project:\n",
    "\n",
    "* What type of data do you need?\n",
    "* Where will you obtain this data?\n",
    "* How large is the dataset?\n",
    "* Are there any preprocessing steps required?\n",
    "\n",
    "If you've already identified specific datasets, provide links or references.\n"
   ]
  },
  {
   "cell_type": "markdown",
   "id": "a1130456",
   "metadata": {},
   "source": [
    "I will not be using data; I'll be examining a deterministic model. "
   ]
  },
  {
   "cell_type": "markdown",
   "id": "56a5495d",
   "metadata": {},
   "source": [
    "## 5. Computational Methods and Course Topics\n",
    "\n",
    "\n",
    "Identify the key computational methods and topics covered in CMSE 802 that you plan to apply in your project. For each method or topic, briefly explain how you intend to use it in your project.\n",
    "\n",
    "Reference the course schedule and consider both the topics we've covered so far and those coming up. Focus on the core computational and analytical methods. Key areas to consider:\n",
    "\n",
    "1. Data Handling and Preprocessing:\n",
    "   - What techniques will you use to prepare and analyze your data?\n",
    "\n",
    "2. Modeling and Optimization:\n",
    "   - Which modeling techniques are relevant to your project?\n",
    "   - How might you apply optimization methods?\n",
    "\n",
    "3. Numerical Methods:\n",
    "   - Will you use methods for solving ODEs?\n",
    "   - Are linear algebra techniques applicable to your project?\n",
    "\n",
    "4. Statistical Modeling and Dimensionality Reduction:\n",
    "   - How will you apply statistical modeling techniques?\n",
    "   - Do you plan to use dimensionality reduction methods?\n",
    "\n",
    "5. Machine Learning (if applicable):\n",
    "   - Which ML algorithms or techniques from the course are relevant?\n",
    "   - How will you implement and evaluate ML models?\n",
    "\n",
    "6. Advanced Topics (if applicable):\n",
    "   - Do you anticipate using neural networks or other advanced techniques we'll cover later in the course?\n",
    "   - How might you apply concepts like transfer learning or language modeling?\n",
    "\n",
    "For each relevant method or topic, provide a brief explanation:\n",
    "\n",
    "Method/Topic: [Name]\n",
    "Application in Project: [Brief explanation]\n",
    "\n",
    "Example:\n",
    "Method/Topic: Ordinary Differential Equations\n",
    "Application in Project: I will use ODE solvers to model the dynamics of a predator-prey system, specifically applying the Runge-Kutta method to solve the Lotka-Volterra equations.\n",
    "\n",
    "Add your methods and applications below:\n",
    "\n",
    "1. Method/Topic: Numerical Methods\n",
    "   Application in Project: I'll using differential equations to model changes in allele frequencies over time. \n",
    "\n",
    "2. Method/Topic: Agent-Based Modeling\n",
    "   Application in Project: I'll be using agent-based modeling to implement Maynard-Smith's model. \n",
    "\n",
    "...\n",
    "\n",
    "You can use the code cell below to demonstrate any preliminary implementation or testing of these methods.\n"
   ]
  },
  {
   "cell_type": "markdown",
   "id": "2680f799",
   "metadata": {},
   "source": [
    "✏️ **Answer:**"
   ]
  },
  {
   "cell_type": "markdown",
   "id": "549c9559",
   "metadata": {},
   "source": [
    "## 6. Timeline and Milestones\n",
    "\n",
    "Create a timeline for your project, breaking it down into weekly milestones. Consider the course schedule and upcoming homework deadlines."
   ]
  },
  {
   "cell_type": "markdown",
   "id": "3ae631c5",
   "metadata": {},
   "source": [
    "* Week 5-6: Have the model implemented in python.\n",
    "* Week 7-8: Establish \"critical values\" for parameters, at which points the handicap does, or doesn't, go to fixation. \n",
    "* Week 8-11: Examine a variation of the model which looks at quantiative traits, which can increase or decrease.\n"
   ]
  },
  {
   "cell_type": "markdown",
   "id": "241907bd",
   "metadata": {},
   "source": [
    "## 7. Potential Challenges and Mitigation Strategies\n",
    "\n",
    "Identify 2-3 potential challenges or risks you foresee in your project. For each, describe a strategy to mitigate or address the challenge.\n",
    "\n",
    "Example:\n",
    "1. Challenge: [Description]\n",
    "   Mitigation: [Strategy]\n",
    "2. Challenge: [Description]\n",
    "   Mitigation: [Strategy]\n",
    "...\n"
   ]
  },
  {
   "cell_type": "markdown",
   "id": "f8493ba1",
   "metadata": {},
   "source": [
    "1. Challenge: I'm very short on time this semester. Mitigation: See how much of this I can do push to after my comps in April, stay late, revise to an easier project if necessary.\n",
    "2. Challenge: I remember agent-based modelling being really difficult in 801. Mitigation: I'll chat with the TA if I run into problems. "
   ]
  },
  {
   "cell_type": "markdown",
   "id": "09e99fd2",
   "metadata": {},
   "source": [
    "## 8. GitHub Setup\n",
    "\n",
    "1. Create a new GitHub **public** repository for your project. (2 points)\n",
    "   - Choose the name `cmse802_project`\n",
    "   - Initialize with a `README.md` file\n",
    "\n",
    "2. Create a `.gitignore` file appropriate for your project. (2 points)\n",
    "\n",
    "### 8.2 Directory Organization \n",
    "\n",
    "3. Set up the basic project structure in your repository. (2 points)\n",
    "   - Create an appropriate folder structure for your project\n",
    "   - Explain your folder structure in the `README.md`\n",
    "\n",
    "4. Write a comprehensive `README.md` file. (2 points)\n",
    "   - Include project title and brief description\n",
    "   - List project objectives\n",
    "   - Provide instructions for setting up and running your code\n",
    "   - Mention any dependencies or requirements\n"
   ]
  },
  {
   "cell_type": "markdown",
   "id": "57777823",
   "metadata": {},
   "source": [
    "## 9. References and Resources\n",
    "\n",
    "List any papers, books, websites, or other resources you've consulted or plan to use for your project. Use proper citation format.\n",
    "\n",
    "1. Maynard-Smith, J. 1974. \"Sexual selection and the handicap principle.\" Journal of the History of Biology 57: 239-242.\n",
    "\n",
    "This is where the original model comes from.\n"
   ]
  },
  {
   "cell_type": "markdown",
   "id": "a304d426",
   "metadata": {},
   "source": [
    "## Congratulations, you're done!\n",
    "\n",
    "Submit this assignment by uploading your notebook to the course Desire2Learn web page.  Go to the \"Homework\" folder, find the appropriate submission link, and upload everything there. Make sure your name is on it!\n"
   ]
  },
  {
   "cell_type": "markdown",
   "id": "10d6ddb8",
   "metadata": {},
   "source": [
    "&#169; Copyright 2024, Department of Computational Mathematics, Science and Engineering at Michigan State University\n"
   ]
  }
 ],
 "metadata": {
  "language_info": {
   "name": "python"
  }
 },
 "nbformat": 4,
 "nbformat_minor": 5
}
